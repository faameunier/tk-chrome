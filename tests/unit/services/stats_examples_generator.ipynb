{
 "cells": [
  {
   "cell_type": "code",
   "execution_count": 82,
   "metadata": {},
   "outputs": [],
   "source": [
    "import json\n",
    "import random\n",
    "from datetime import datetime\n",
    "import pandas as pd"
   ]
  },
  {
   "cell_type": "code",
   "execution_count": 83,
   "metadata": {},
   "outputs": [
    {
     "data": {
      "text/plain": [
       "1601999876918"
      ]
     },
     "execution_count": 83,
     "metadata": {},
     "output_type": "execute_result"
    }
   ],
   "source": [
    "1601999876918"
   ]
  },
  {
   "cell_type": "code",
   "execution_count": 84,
   "metadata": {},
   "outputs": [
    {
     "data": {
      "text/plain": [
       "1602001287418.5532"
      ]
     },
     "execution_count": 84,
     "metadata": {},
     "output_type": "execute_result"
    }
   ],
   "source": [
    "datetime.now().timestamp()*1000"
   ]
  },
  {
   "cell_type": "code",
   "execution_count": 85,
   "metadata": {},
   "outputs": [
    {
     "data": {
      "text/plain": [
       "0.31106433464629846"
      ]
     },
     "execution_count": 85,
     "metadata": {},
     "output_type": "execute_result"
    }
   ],
   "source": [
    "random.random()"
   ]
  },
  {
   "cell_type": "code",
   "execution_count": 134,
   "metadata": {},
   "outputs": [],
   "source": [
    "def random_close():\n",
    "    t = random.random()\n",
    "    status = None\n",
    "    if t >= 0.7:\n",
    "        status = 'manual'\n",
    "    elif t >= 0.5:\n",
    "        status = 'restored'\n",
    "    else:\n",
    "        status = 'killed'\n",
    "    return {\n",
    "        'deletion_time': int(datetime.now().timestamp()*1000 - random.randint(1, 500000)),\n",
    "        'status': status\n",
    "        \n",
    "    }"
   ]
  },
  {
   "cell_type": "code",
   "execution_count": 135,
   "metadata": {},
   "outputs": [],
   "source": [
    "fake_date = [random_close() for k in range(0,100)]"
   ]
  },
  {
   "cell_type": "code",
   "execution_count": 136,
   "metadata": {},
   "outputs": [],
   "source": [
    "test = pd.DataFrame(fake_date)"
   ]
  },
  {
   "cell_type": "code",
   "execution_count": 137,
   "metadata": {},
   "outputs": [],
   "source": [
    "fake_data = sorted(fake_date, key=lambda a: a['deletion_time'])"
   ]
  },
  {
   "cell_type": "code",
   "execution_count": 138,
   "metadata": {},
   "outputs": [
    {
     "data": {
      "text/plain": [
       "[{'deletion_time': 1602001085093, 'status': 'restored'},\n",
       " {'deletion_time': 1602001094230, 'status': 'manual'},\n",
       " {'deletion_time': 1602001095717, 'status': 'killed'},\n",
       " {'deletion_time': 1602001101645, 'status': 'manual'},\n",
       " {'deletion_time': 1602001102910, 'status': 'manual'},\n",
       " {'deletion_time': 1602001107094, 'status': 'killed'},\n",
       " {'deletion_time': 1602001110682, 'status': 'restored'},\n",
       " {'deletion_time': 1602001113082, 'status': 'killed'},\n",
       " {'deletion_time': 1602001118085, 'status': 'restored'},\n",
       " {'deletion_time': 1602001124123, 'status': 'killed'},\n",
       " {'deletion_time': 1602001129135, 'status': 'restored'},\n",
       " {'deletion_time': 1602001130752, 'status': 'restored'},\n",
       " {'deletion_time': 1602001134083, 'status': 'killed'},\n",
       " {'deletion_time': 1602001136595, 'status': 'manual'},\n",
       " {'deletion_time': 1602001141116, 'status': 'killed'},\n",
       " {'deletion_time': 1602001149275, 'status': 'manual'},\n",
       " {'deletion_time': 1602001151538, 'status': 'manual'},\n",
       " {'deletion_time': 1602001151658, 'status': 'manual'},\n",
       " {'deletion_time': 1602001159918, 'status': 'restored'},\n",
       " {'deletion_time': 1602001161225, 'status': 'killed'},\n",
       " {'deletion_time': 1602001163463, 'status': 'manual'},\n",
       " {'deletion_time': 1602001164817, 'status': 'manual'},\n",
       " {'deletion_time': 1602001166347, 'status': 'killed'},\n",
       " {'deletion_time': 1602001172246, 'status': 'killed'},\n",
       " {'deletion_time': 1602001172928, 'status': 'killed'},\n",
       " {'deletion_time': 1602001176657, 'status': 'manual'},\n",
       " {'deletion_time': 1602001183121, 'status': 'killed'},\n",
       " {'deletion_time': 1602001189586, 'status': 'killed'},\n",
       " {'deletion_time': 1602001207720, 'status': 'killed'},\n",
       " {'deletion_time': 1602001217777, 'status': 'killed'},\n",
       " {'deletion_time': 1602001219872, 'status': 'killed'},\n",
       " {'deletion_time': 1602001239703, 'status': 'restored'},\n",
       " {'deletion_time': 1602001245828, 'status': 'restored'},\n",
       " {'deletion_time': 1602001250406, 'status': 'manual'},\n",
       " {'deletion_time': 1602001251883, 'status': 'killed'},\n",
       " {'deletion_time': 1602001261557, 'status': 'killed'},\n",
       " {'deletion_time': 1602001265387, 'status': 'restored'},\n",
       " {'deletion_time': 1602001265822, 'status': 'manual'},\n",
       " {'deletion_time': 1602001271944, 'status': 'restored'},\n",
       " {'deletion_time': 1602001276714, 'status': 'killed'},\n",
       " {'deletion_time': 1602001283663, 'status': 'manual'},\n",
       " {'deletion_time': 1602001299650, 'status': 'killed'},\n",
       " {'deletion_time': 1602001306259, 'status': 'killed'},\n",
       " {'deletion_time': 1602001308896, 'status': 'restored'},\n",
       " {'deletion_time': 1602001317675, 'status': 'manual'},\n",
       " {'deletion_time': 1602001327093, 'status': 'killed'},\n",
       " {'deletion_time': 1602001332999, 'status': 'restored'},\n",
       " {'deletion_time': 1602001334585, 'status': 'restored'},\n",
       " {'deletion_time': 1602001339203, 'status': 'manual'},\n",
       " {'deletion_time': 1602001339270, 'status': 'restored'},\n",
       " {'deletion_time': 1602001348683, 'status': 'killed'},\n",
       " {'deletion_time': 1602001353079, 'status': 'manual'},\n",
       " {'deletion_time': 1602001357550, 'status': 'killed'},\n",
       " {'deletion_time': 1602001359675, 'status': 'manual'},\n",
       " {'deletion_time': 1602001361306, 'status': 'restored'},\n",
       " {'deletion_time': 1602001366677, 'status': 'restored'},\n",
       " {'deletion_time': 1602001384015, 'status': 'killed'},\n",
       " {'deletion_time': 1602001390268, 'status': 'killed'},\n",
       " {'deletion_time': 1602001393221, 'status': 'manual'},\n",
       " {'deletion_time': 1602001396815, 'status': 'manual'},\n",
       " {'deletion_time': 1602001399701, 'status': 'killed'},\n",
       " {'deletion_time': 1602001400426, 'status': 'killed'},\n",
       " {'deletion_time': 1602001406312, 'status': 'restored'},\n",
       " {'deletion_time': 1602001411596, 'status': 'manual'},\n",
       " {'deletion_time': 1602001420379, 'status': 'killed'},\n",
       " {'deletion_time': 1602001435564, 'status': 'restored'},\n",
       " {'deletion_time': 1602001441786, 'status': 'manual'},\n",
       " {'deletion_time': 1602001443830, 'status': 'killed'},\n",
       " {'deletion_time': 1602001444494, 'status': 'manual'},\n",
       " {'deletion_time': 1602001444850, 'status': 'killed'},\n",
       " {'deletion_time': 1602001448765, 'status': 'killed'},\n",
       " {'deletion_time': 1602001451152, 'status': 'restored'},\n",
       " {'deletion_time': 1602001454181, 'status': 'restored'},\n",
       " {'deletion_time': 1602001462565, 'status': 'killed'},\n",
       " {'deletion_time': 1602001466284, 'status': 'restored'},\n",
       " {'deletion_time': 1602001471549, 'status': 'killed'},\n",
       " {'deletion_time': 1602001480431, 'status': 'killed'},\n",
       " {'deletion_time': 1602001490421, 'status': 'killed'},\n",
       " {'deletion_time': 1602001497866, 'status': 'restored'},\n",
       " {'deletion_time': 1602001499149, 'status': 'manual'},\n",
       " {'deletion_time': 1602001502031, 'status': 'killed'},\n",
       " {'deletion_time': 1602001510268, 'status': 'killed'},\n",
       " {'deletion_time': 1602001510879, 'status': 'killed'},\n",
       " {'deletion_time': 1602001511763, 'status': 'killed'},\n",
       " {'deletion_time': 1602001514545, 'status': 'manual'},\n",
       " {'deletion_time': 1602001519770, 'status': 'killed'},\n",
       " {'deletion_time': 1602001525675, 'status': 'killed'},\n",
       " {'deletion_time': 1602001529138, 'status': 'killed'},\n",
       " {'deletion_time': 1602001531879, 'status': 'killed'},\n",
       " {'deletion_time': 1602001537441, 'status': 'manual'},\n",
       " {'deletion_time': 1602001539001, 'status': 'killed'},\n",
       " {'deletion_time': 1602001539628, 'status': 'manual'},\n",
       " {'deletion_time': 1602001540086, 'status': 'restored'},\n",
       " {'deletion_time': 1602001542400, 'status': 'killed'},\n",
       " {'deletion_time': 1602001550818, 'status': 'manual'},\n",
       " {'deletion_time': 1602001551602, 'status': 'manual'},\n",
       " {'deletion_time': 1602001562776, 'status': 'manual'},\n",
       " {'deletion_time': 1602001568831, 'status': 'manual'},\n",
       " {'deletion_time': 1602001571037, 'status': 'killed'},\n",
       " {'deletion_time': 1602001571894, 'status': 'manual'}]"
      ]
     },
     "execution_count": 138,
     "metadata": {},
     "output_type": "execute_result"
    }
   ],
   "source": [
    "fake_data"
   ]
  },
  {
   "cell_type": "code",
   "execution_count": 139,
   "metadata": {},
   "outputs": [],
   "source": [
    "df = pd.DataFrame(fake_date)"
   ]
  },
  {
   "cell_type": "code",
   "execution_count": 140,
   "metadata": {},
   "outputs": [],
   "source": [
    "df['deletion_time'] = pd.to_datetime(df['deletion_time'],unit='ms')"
   ]
  },
  {
   "cell_type": "code",
   "execution_count": 141,
   "metadata": {},
   "outputs": [],
   "source": [
    "df['date'] = df['deletion_time'].dt.floor('min')"
   ]
  },
  {
   "cell_type": "code",
   "execution_count": 142,
   "metadata": {},
   "outputs": [],
   "source": [
    "closedTabs = df.groupby('date').status.count()\n",
    "closedTabs = closedTabs.reset_index()\n",
    "print(((closedTabs[\"date\"] - pd.Timestamp(\"1970-01-01\")) // pd.Timedelta('1ms')).to_list())\n",
    "print(closedTabs.status.to_list())"
   ]
  },
  {
   "cell_type": "code",
   "execution_count": 150,
   "metadata": {},
   "outputs": [
    {
     "name": "stdout",
     "output_type": "stream",
     "text": [
      "[1602001080000, 1602001140000, 1602001200000, 1602001260000, 1602001320000, 1602001380000, 1602001440000, 1602001500000, 1602001560000]\n",
      "[10, 8, 6, 7, 8, 7, 11, 11, 1]\n"
     ]
    }
   ],
   "source": [
    "killedTabs = df[df.status.isin(['killed', 'restored'])].groupby('date').status.count()\n",
    "killedTabs = killedTabs.reset_index()\n",
    "print(((killedTabs[\"date\"] - pd.Timestamp(\"1970-01-01\")) // pd.Timedelta('1ms')).to_list())\n",
    "print(killedTabs.status.to_list())"
   ]
  },
  {
   "cell_type": "code",
   "execution_count": 151,
   "metadata": {},
   "outputs": [
    {
     "name": "stdout",
     "output_type": "stream",
     "text": [
      "[1602001080000, 1602001140000, 1602001200000, 1602001260000, 1602001320000, 1602001380000, 1602001440000, 1602001500000]\n",
      "[5, 1, 2, 3, 5, 2, 4, 1]\n"
     ]
    }
   ],
   "source": [
    "restoreTabs = df[df.status.isin(['restored'])].groupby('date').status.count()\n",
    "restoreTabs = restoreTabs.reset_index()\n",
    "print(((restoreTabs[\"date\"] - pd.Timestamp(\"1970-01-01\")) // pd.Timedelta('1ms')).to_list())\n",
    "print(restoreTabs.status.to_list())"
   ]
  },
  {
   "cell_type": "code",
   "execution_count": null,
   "metadata": {},
   "outputs": [],
   "source": []
  }
 ],
 "metadata": {
  "kernelspec": {
   "display_name": "Python 3",
   "language": "python",
   "name": "python3"
  },
  "language_info": {
   "codemirror_mode": {
    "name": "ipython",
    "version": 3
   },
   "file_extension": ".py",
   "mimetype": "text/x-python",
   "name": "python",
   "nbconvert_exporter": "python",
   "pygments_lexer": "ipython3",
   "version": "3.8.5"
  }
 },
 "nbformat": 4,
 "nbformat_minor": 4
}
